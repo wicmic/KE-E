{
 "cells": [
  {
   "cell_type": "code",
   "execution_count": 3,
   "metadata": {
    "collapsed": true
   },
   "outputs": [
    {
     "name": "stdout",
     "output_type": "stream",
     "text": [
      "['https://www.fhnw.ch/de/studium/psychologie/master-angewandte-psychologie', 'https://www.fhnw.ch/de/studium/architektur-bau-geomatik/master-studiengang-architektur', 'https://www.fhnw.ch/de/studium/architektur-bau-geomatik/master-studiengang-msc-fhnw-virtual-design-and-construction', 'https://www.fhnw.ch/de/studium/architektur-bau-geomatik/master-of-science-fhnw-in-engineering-mse', 'https://www.fhnw.ch/de/studium/gestaltung-kunst/master-of-arts/master-of-arts-fhnw-in-fine-arts', 'https://www.fhnw.ch/de/studium/gestaltung-kunst/master-of-arts/master-of-arts-fhnw-in-design-digital-communication-environments', 'https://www.fhnw.ch/de/studium/gestaltung-kunst/master-of-arts/masterstudio-fashion-design', 'https://www.fhnw.ch/de/studium/gestaltung-kunst/master-of-arts/masterstudio-experimental-design', 'https://www.fhnw.ch/de/studium/gestaltung-kunst/master-of-arts/masterstudio-scenography', 'https://www.fhnw.ch/de/studium/gestaltung-kunst/master-of-arts/masterstudio-industrial-design', 'https://www.fhnw.ch/de/studium/gestaltung-kunst/master-of-arts/ma-vermittlung-kunst-design', 'https://www.fhnw.ch/de/studium/gestaltung-kunst/master-of-arts/ma-transversaldesign', 'https://www.fhnw.ch/de/studium/lifesciences/master/life-sciences', 'https://www.fhnw.ch/de/studium/lifesciences/master/medical-informatics', 'https://www.fhnw.ch/de/studium/musik/spezialisierte-performance', 'https://www.fhnw.ch/de/studium/musik/performance-ma', 'https://www.fhnw.ch/de/studium/musik/musikpaedagogik-master', 'https://www.fhnw.ch/de/studium/musik/master-komposition-musiktheorie', 'https://www.fhnw.ch/de/studium/musik/musik-und-szene-in-transformation', 'https://www.fhnw.ch/de/studium/paedagogik/sekundarstufe-1', 'https://www.fhnw.ch/de/studium/paedagogik/sekundarstufe-2', 'https://www.fhnw.ch/de/studium/paedagogik/master-sonderpaedagogik', 'https://www.fhnw.ch/de/studium/soziale-arbeit/master', 'https://www.fhnw.ch/de/studium/technik/mse', 'https://www.fhnw.ch/de/studium/wirtschaft/msc-bis-business-information-systems', 'https://www.fhnw.ch/de/studium/wirtschaft/msc-im', 'https://www.fhnw.ch/de/studium/wirtschaft/msc-tri']\n"
     ]
    }
   ],
   "source": [
    "import csv\n",
    "\n",
    "def read_csv_and_extract_links(csv_file_path):\n",
    "    links = []\n",
    "\n",
    "    with open(csv_file_path, 'r', encoding='utf-8') as file:\n",
    "        csv_reader = csv.DictReader(file)\n",
    "\n",
    "        for row in csv_reader:\n",
    "            # Hier gehen wir davon aus, dass die Spalte 'link' in Ihrer CSV-Datei existiert.\n",
    "            link = row['Link']\n",
    "\n",
    "            # Fügen Sie den Link zur Liste hinzu.\n",
    "            links.append(link)\n",
    "\n",
    "    return links\n",
    "\n",
    "# Beispielaufruf\n",
    "csv_file_path = 'D:\\Python\\KE-E\\Scrapy_KEE\\Scrapy_KEE\\masterstudiengang_base.csv'\n",
    "links = read_csv_and_extract_links(csv_file_path)\n",
    "\n",
    "# Ausgabe der Liste\n",
    "print(links)"
   ]
  },
  {
   "cell_type": "code",
   "execution_count": 10,
   "outputs": [
    {
     "data": {
      "text/plain": "    Unnamed: 0                Master of  \\\n0            0        Master of Science   \n1            1           Master of Arts   \n2            2        Master of Science   \n3            3        Master of Science   \n4            4           Master of Arts   \n5            5           Master of Arts   \n6            6           Master of Arts   \n7            7           Master of Arts   \n8            8           Master of Arts   \n9            9           Master of Arts   \n10          10           Master of Arts   \n11          11           Master of Arts   \n12          12        Master of Science   \n13          13        Master of Science   \n14          14           Master of Arts   \n15          15           Master of Arts   \n16          16           Master of Arts   \n17          17           Master of Arts   \n18          18           Master of Arts   \n19          19  Bachelor/Master of Arts   \n20          20               Lehrdiplom   \n21          21           Master of Arts   \n22          22           Master of Arts   \n23          23        Master of Science   \n24          24        Master of Science   \n25          25        Master of Science   \n26          26        Master of Science   \n\n                                          Studiengang  \\\n0                              Angewandte Psychologie   \n1                                         Architektur   \n2               Virtual Design and Construction (VDC)   \n3                Master of Science in Engineering MSE   \n4                                           Fine Arts   \n5                  Digital Communication Environments   \n6                         Masterstudio Fashion Design   \n7                    Masterstudio Experimental Design   \n8                            Masterstudio Scenography   \n9                      Masterstudio Industrial Design   \n10  Vermittlung von Kunst und Design, Lehrdiplom f...   \n11                                Transversal Design*   \n12                                      Life Sciences   \n13                                Medical Informatics   \n14                         Spezialisierte Performance   \n15                                        Performance   \n16                                     Musikpädagogik   \n17                          Komposition/ Musiktheorie   \n18                  Musik und Szene in Transformation   \n19                                    Sekundarstufe I   \n20                                   Sekundarstufe II   \n21                                    Sonderpädagogik   \n22                                     Soziale Arbeit   \n23                                    Engineering MSE   \n24                       Business Information Systems   \n25                           International Management   \n26     Sustainable Business Development (trinational)   \n\n                                                 Link  \n0   https://www.fhnw.ch/de/studium/psychologie/mas...  \n1   https://www.fhnw.ch/de/studium/architektur-bau...  \n2   https://www.fhnw.ch/de/studium/architektur-bau...  \n3   https://www.fhnw.ch/de/studium/architektur-bau...  \n4   https://www.fhnw.ch/de/studium/gestaltung-kuns...  \n5   https://www.fhnw.ch/de/studium/gestaltung-kuns...  \n6   https://www.fhnw.ch/de/studium/gestaltung-kuns...  \n7   https://www.fhnw.ch/de/studium/gestaltung-kuns...  \n8   https://www.fhnw.ch/de/studium/gestaltung-kuns...  \n9   https://www.fhnw.ch/de/studium/gestaltung-kuns...  \n10  https://www.fhnw.ch/de/studium/gestaltung-kuns...  \n11  https://www.fhnw.ch/de/studium/gestaltung-kuns...  \n12  https://www.fhnw.ch/de/studium/lifesciences/ma...  \n13  https://www.fhnw.ch/de/studium/lifesciences/ma...  \n14  https://www.fhnw.ch/de/studium/musik/spezialis...  \n15  https://www.fhnw.ch/de/studium/musik/performan...  \n16  https://www.fhnw.ch/de/studium/musik/musikpaed...  \n17  https://www.fhnw.ch/de/studium/musik/master-ko...  \n18  https://www.fhnw.ch/de/studium/musik/musik-und...  \n19  https://www.fhnw.ch/de/studium/paedagogik/seku...  \n20  https://www.fhnw.ch/de/studium/paedagogik/seku...  \n21  https://www.fhnw.ch/de/studium/paedagogik/mast...  \n22  https://www.fhnw.ch/de/studium/soziale-arbeit/...  \n23         https://www.fhnw.ch/de/studium/technik/mse  \n24  https://www.fhnw.ch/de/studium/wirtschaft/msc-...  \n25   https://www.fhnw.ch/de/studium/wirtschaft/msc-im  \n26  https://www.fhnw.ch/de/studium/wirtschaft/msc-tri  ",
      "text/html": "<div>\n<style scoped>\n    .dataframe tbody tr th:only-of-type {\n        vertical-align: middle;\n    }\n\n    .dataframe tbody tr th {\n        vertical-align: top;\n    }\n\n    .dataframe thead th {\n        text-align: right;\n    }\n</style>\n<table border=\"1\" class=\"dataframe\">\n  <thead>\n    <tr style=\"text-align: right;\">\n      <th></th>\n      <th>Unnamed: 0</th>\n      <th>Master of</th>\n      <th>Studiengang</th>\n      <th>Link</th>\n    </tr>\n  </thead>\n  <tbody>\n    <tr>\n      <th>0</th>\n      <td>0</td>\n      <td>Master of Science</td>\n      <td>Angewandte Psychologie</td>\n      <td>https://www.fhnw.ch/de/studium/psychologie/mas...</td>\n    </tr>\n    <tr>\n      <th>1</th>\n      <td>1</td>\n      <td>Master of Arts</td>\n      <td>Architektur</td>\n      <td>https://www.fhnw.ch/de/studium/architektur-bau...</td>\n    </tr>\n    <tr>\n      <th>2</th>\n      <td>2</td>\n      <td>Master of Science</td>\n      <td>Virtual Design and Construction (VDC)</td>\n      <td>https://www.fhnw.ch/de/studium/architektur-bau...</td>\n    </tr>\n    <tr>\n      <th>3</th>\n      <td>3</td>\n      <td>Master of Science</td>\n      <td>Master of Science in Engineering MSE</td>\n      <td>https://www.fhnw.ch/de/studium/architektur-bau...</td>\n    </tr>\n    <tr>\n      <th>4</th>\n      <td>4</td>\n      <td>Master of Arts</td>\n      <td>Fine Arts</td>\n      <td>https://www.fhnw.ch/de/studium/gestaltung-kuns...</td>\n    </tr>\n    <tr>\n      <th>5</th>\n      <td>5</td>\n      <td>Master of Arts</td>\n      <td>Digital Communication Environments</td>\n      <td>https://www.fhnw.ch/de/studium/gestaltung-kuns...</td>\n    </tr>\n    <tr>\n      <th>6</th>\n      <td>6</td>\n      <td>Master of Arts</td>\n      <td>Masterstudio Fashion Design</td>\n      <td>https://www.fhnw.ch/de/studium/gestaltung-kuns...</td>\n    </tr>\n    <tr>\n      <th>7</th>\n      <td>7</td>\n      <td>Master of Arts</td>\n      <td>Masterstudio Experimental Design</td>\n      <td>https://www.fhnw.ch/de/studium/gestaltung-kuns...</td>\n    </tr>\n    <tr>\n      <th>8</th>\n      <td>8</td>\n      <td>Master of Arts</td>\n      <td>Masterstudio Scenography</td>\n      <td>https://www.fhnw.ch/de/studium/gestaltung-kuns...</td>\n    </tr>\n    <tr>\n      <th>9</th>\n      <td>9</td>\n      <td>Master of Arts</td>\n      <td>Masterstudio Industrial Design</td>\n      <td>https://www.fhnw.ch/de/studium/gestaltung-kuns...</td>\n    </tr>\n    <tr>\n      <th>10</th>\n      <td>10</td>\n      <td>Master of Arts</td>\n      <td>Vermittlung von Kunst und Design, Lehrdiplom f...</td>\n      <td>https://www.fhnw.ch/de/studium/gestaltung-kuns...</td>\n    </tr>\n    <tr>\n      <th>11</th>\n      <td>11</td>\n      <td>Master of Arts</td>\n      <td>Transversal Design*</td>\n      <td>https://www.fhnw.ch/de/studium/gestaltung-kuns...</td>\n    </tr>\n    <tr>\n      <th>12</th>\n      <td>12</td>\n      <td>Master of Science</td>\n      <td>Life Sciences</td>\n      <td>https://www.fhnw.ch/de/studium/lifesciences/ma...</td>\n    </tr>\n    <tr>\n      <th>13</th>\n      <td>13</td>\n      <td>Master of Science</td>\n      <td>Medical Informatics</td>\n      <td>https://www.fhnw.ch/de/studium/lifesciences/ma...</td>\n    </tr>\n    <tr>\n      <th>14</th>\n      <td>14</td>\n      <td>Master of Arts</td>\n      <td>Spezialisierte Performance</td>\n      <td>https://www.fhnw.ch/de/studium/musik/spezialis...</td>\n    </tr>\n    <tr>\n      <th>15</th>\n      <td>15</td>\n      <td>Master of Arts</td>\n      <td>Performance</td>\n      <td>https://www.fhnw.ch/de/studium/musik/performan...</td>\n    </tr>\n    <tr>\n      <th>16</th>\n      <td>16</td>\n      <td>Master of Arts</td>\n      <td>Musikpädagogik</td>\n      <td>https://www.fhnw.ch/de/studium/musik/musikpaed...</td>\n    </tr>\n    <tr>\n      <th>17</th>\n      <td>17</td>\n      <td>Master of Arts</td>\n      <td>Komposition/ Musiktheorie</td>\n      <td>https://www.fhnw.ch/de/studium/musik/master-ko...</td>\n    </tr>\n    <tr>\n      <th>18</th>\n      <td>18</td>\n      <td>Master of Arts</td>\n      <td>Musik und Szene in Transformation</td>\n      <td>https://www.fhnw.ch/de/studium/musik/musik-und...</td>\n    </tr>\n    <tr>\n      <th>19</th>\n      <td>19</td>\n      <td>Bachelor/Master of Arts</td>\n      <td>Sekundarstufe I</td>\n      <td>https://www.fhnw.ch/de/studium/paedagogik/seku...</td>\n    </tr>\n    <tr>\n      <th>20</th>\n      <td>20</td>\n      <td>Lehrdiplom</td>\n      <td>Sekundarstufe II</td>\n      <td>https://www.fhnw.ch/de/studium/paedagogik/seku...</td>\n    </tr>\n    <tr>\n      <th>21</th>\n      <td>21</td>\n      <td>Master of Arts</td>\n      <td>Sonderpädagogik</td>\n      <td>https://www.fhnw.ch/de/studium/paedagogik/mast...</td>\n    </tr>\n    <tr>\n      <th>22</th>\n      <td>22</td>\n      <td>Master of Arts</td>\n      <td>Soziale Arbeit</td>\n      <td>https://www.fhnw.ch/de/studium/soziale-arbeit/...</td>\n    </tr>\n    <tr>\n      <th>23</th>\n      <td>23</td>\n      <td>Master of Science</td>\n      <td>Engineering MSE</td>\n      <td>https://www.fhnw.ch/de/studium/technik/mse</td>\n    </tr>\n    <tr>\n      <th>24</th>\n      <td>24</td>\n      <td>Master of Science</td>\n      <td>Business Information Systems</td>\n      <td>https://www.fhnw.ch/de/studium/wirtschaft/msc-...</td>\n    </tr>\n    <tr>\n      <th>25</th>\n      <td>25</td>\n      <td>Master of Science</td>\n      <td>International Management</td>\n      <td>https://www.fhnw.ch/de/studium/wirtschaft/msc-im</td>\n    </tr>\n    <tr>\n      <th>26</th>\n      <td>26</td>\n      <td>Master of Science</td>\n      <td>Sustainable Business Development (trinational)</td>\n      <td>https://www.fhnw.ch/de/studium/wirtschaft/msc-tri</td>\n    </tr>\n  </tbody>\n</table>\n</div>"
     },
     "execution_count": 10,
     "metadata": {},
     "output_type": "execute_result"
    }
   ],
   "source": [
    " import pandas as pd\n",
    "df = pd.read_csv('D:\\Python\\KE-E\\Scrapy_KEE\\Scrapy_KEE\\masterstudiengang_base.csv')\n",
    "df"
   ],
   "metadata": {
    "collapsed": false
   }
  },
  {
   "cell_type": "code",
   "execution_count": 11,
   "outputs": [
    {
     "data": {
      "text/plain": "['https://www.fhnw.ch/de/studium/psychologie/master-angewandte-psychologie',\n 'https://www.fhnw.ch/de/studium/architektur-bau-geomatik/master-studiengang-architektur',\n 'https://www.fhnw.ch/de/studium/architektur-bau-geomatik/master-studiengang-msc-fhnw-virtual-design-and-construction',\n 'https://www.fhnw.ch/de/studium/architektur-bau-geomatik/master-of-science-fhnw-in-engineering-mse',\n 'https://www.fhnw.ch/de/studium/gestaltung-kunst/master-of-arts/master-of-arts-fhnw-in-fine-arts',\n 'https://www.fhnw.ch/de/studium/gestaltung-kunst/master-of-arts/master-of-arts-fhnw-in-design-digital-communication-environments',\n 'https://www.fhnw.ch/de/studium/gestaltung-kunst/master-of-arts/masterstudio-fashion-design',\n 'https://www.fhnw.ch/de/studium/gestaltung-kunst/master-of-arts/masterstudio-experimental-design',\n 'https://www.fhnw.ch/de/studium/gestaltung-kunst/master-of-arts/masterstudio-scenography',\n 'https://www.fhnw.ch/de/studium/gestaltung-kunst/master-of-arts/masterstudio-industrial-design',\n 'https://www.fhnw.ch/de/studium/gestaltung-kunst/master-of-arts/ma-vermittlung-kunst-design',\n 'https://www.fhnw.ch/de/studium/gestaltung-kunst/master-of-arts/ma-transversaldesign',\n 'https://www.fhnw.ch/de/studium/lifesciences/master/life-sciences',\n 'https://www.fhnw.ch/de/studium/lifesciences/master/medical-informatics',\n 'https://www.fhnw.ch/de/studium/musik/spezialisierte-performance',\n 'https://www.fhnw.ch/de/studium/musik/performance-ma',\n 'https://www.fhnw.ch/de/studium/musik/musikpaedagogik-master',\n 'https://www.fhnw.ch/de/studium/musik/master-komposition-musiktheorie',\n 'https://www.fhnw.ch/de/studium/musik/musik-und-szene-in-transformation',\n 'https://www.fhnw.ch/de/studium/paedagogik/sekundarstufe-1',\n 'https://www.fhnw.ch/de/studium/paedagogik/sekundarstufe-2',\n 'https://www.fhnw.ch/de/studium/paedagogik/master-sonderpaedagogik',\n 'https://www.fhnw.ch/de/studium/soziale-arbeit/master',\n 'https://www.fhnw.ch/de/studium/technik/mse',\n 'https://www.fhnw.ch/de/studium/wirtschaft/msc-bis-business-information-systems',\n 'https://www.fhnw.ch/de/studium/wirtschaft/msc-im',\n 'https://www.fhnw.ch/de/studium/wirtschaft/msc-tri']"
     },
     "execution_count": 11,
     "metadata": {},
     "output_type": "execute_result"
    }
   ],
   "source": [
    "start_urls = df['Link'].tolist()\n",
    "start_urls"
   ],
   "metadata": {
    "collapsed": false
   }
  },
  {
   "cell_type": "code",
   "execution_count": null,
   "outputs": [],
   "source": [
    "    #df = pd.read_csv('D:\\Python\\KE-E\\Scrapy_KEE\\Scrapy_KEE\\masterstudiengang_base.csv')\n",
    "    #start_urls = df['Link'].tolist()\n",
    "    start_urls = ['https://www.fhnw.ch/de/studium/psychologie/master-angewandte-psychologie']"
   ],
   "metadata": {
    "collapsed": false
   }
  },
  {
   "cell_type": "code",
   "execution_count": null,
   "outputs": [],
   "source": [
    " start_urls = ['https://www.fhnw.ch/de/studium/psychologie/master-angewandte-psychologie',\n",
    "     'https://www.fhnw.ch/de/studium/architektur-bau-geomatik/master-studiengang-architektur',\n",
    "     'https://www.fhnw.ch/de/studium/architektur-bau-geomatik/master-studiengang-msc-fhnw-virtual-design-and-construction',\n",
    "     'https://www.fhnw.ch/de/studium/architektur-bau-geomatik/master-of-science-fhnw-in-engineering-mse',\n",
    "     'https://www.fhnw.ch/de/studium/gestaltung-kunst/master-of-arts/master-of-arts-fhnw-in-fine-arts',\n",
    "     'https://www.fhnw.ch/de/studium/gestaltung-kunst/master-of-arts/master-of-arts-fhnw-in-design-digital-communication-environments',\n",
    "     'https://www.fhnw.ch/de/studium/gestaltung-kunst/master-of-arts/masterstudio-fashion-design',\n",
    "     'https://www.fhnw.ch/de/studium/gestaltung-kunst/master-of-arts/masterstudio-experimental-design',\n",
    "     'https://www.fhnw.ch/de/studium/gestaltung-kunst/master-of-arts/masterstudio-scenography',\n",
    "     'https://www.fhnw.ch/de/studium/gestaltung-kunst/master-of-arts/masterstudio-industrial-design',\n",
    "     'https://www.fhnw.ch/de/studium/gestaltung-kunst/master-of-arts/ma-vermittlung-kunst-design',\n",
    "     'https://www.fhnw.ch/de/studium/gestaltung-kunst/master-of-arts/ma-transversaldesign',\n",
    "     'https://www.fhnw.ch/de/studium/lifesciences/master/life-sciences',\n",
    "     'https://www.fhnw.ch/de/studium/lifesciences/master/medical-informatics',\n",
    "     'https://www.fhnw.ch/de/studium/musik/spezialisierte-performance',\n",
    "     'https://www.fhnw.ch/de/studium/musik/performance-ma',\n",
    "     'https://www.fhnw.ch/de/studium/musik/musikpaedagogik-master',\n",
    "     'https://www.fhnw.ch/de/studium/musik/master-komposition-musiktheorie',\n",
    "     'https://www.fhnw.ch/de/studium/musik/musik-und-szene-in-transformation',\n",
    "     'https://www.fhnw.ch/de/studium/paedagogik/sekundarstufe-1',\n",
    "     'https://www.fhnw.ch/de/studium/paedagogik/sekundarstufe-2',\n",
    "     'https://www.fhnw.ch/de/studium/paedagogik/master-sonderpaedagogik',\n",
    "     'https://www.fhnw.ch/de/studium/soziale-arbeit/master',\n",
    "     'https://www.fhnw.ch/de/studium/technik/mse',\n",
    "     'https://www.fhnw.ch/de/studium/wirtschaft/msc-bis-business-information-systems',\n",
    "     'https://www.fhnw.ch/de/studium/wirtschaft/msc-im',\n",
    "     'https://www.fhnw.ch/de/studium/wirtschaft/msc-tri']"
   ],
   "metadata": {
    "collapsed": false
   }
  }
 ],
 "metadata": {
  "kernelspec": {
   "display_name": "Python 3",
   "language": "python",
   "name": "python3"
  },
  "language_info": {
   "codemirror_mode": {
    "name": "ipython",
    "version": 2
   },
   "file_extension": ".py",
   "mimetype": "text/x-python",
   "name": "python",
   "nbconvert_exporter": "python",
   "pygments_lexer": "ipython2",
   "version": "2.7.6"
  }
 },
 "nbformat": 4,
 "nbformat_minor": 0
}
